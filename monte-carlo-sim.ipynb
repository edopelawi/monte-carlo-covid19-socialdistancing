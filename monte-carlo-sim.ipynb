{
 "cells": [
  {
   "cell_type": "markdown",
   "metadata": {},
   "source": [
    "# Monte Carlo Simulation for Social Distancing to Prevent COVID-19 Infection\n",
    "\n",
    "This notebook holds the analysis for the Monte Carlo Simulation."
   ]
  },
  {
   "cell_type": "code",
   "execution_count": 2,
   "metadata": {},
   "outputs": [],
   "source": [
    "# Dependencies\n",
    "\n",
    "import pandas as pd\n",
    "import numpy as np\n",
    "import seaborn as sns\n",
    "\n",
    "sns.set_style('whitegrid')\n"
   ]
  },
  {
   "cell_type": "code",
   "execution_count": 31,
   "metadata": {},
   "outputs": [],
   "source": [
    "# Running simulation\n",
    "\n",
    "# Percentage of the population that doesn't move (stationary)\n",
    "stationary_percentages = np.arange(0, 1, 0.1).tolist()\n",
    "\n",
    "# DataFrame creation\n",
    "# TODO: Update this part with proper model / simulation instead of random  data generation.\n",
    "\n",
    "df = pd.DataFrame({\n",
    "    \"Stationary Percentage\": [],\n",
    "    \"Death Rate\": [],\n",
    "    \"Total Infection Rate\": [],\n",
    "    \"Max Infection Rate\": [],\n",
    "    \"Average Stop Period\": []\n",
    "})\n",
    "\n",
    "run_per_stat_percentage = 10000\n",
    "\n",
    "for stat_percentage in stationary_percentages:\n",
    "    \n",
    "    death_rate = np.random.uniform(low=0.0, high=1.0, size=run_per_stat_percentage)\n",
    "    total_infection_rate = np.random.uniform(low=0, high=100, size=run_per_stat_percentage).astype(int)\n",
    "    max_infection_rate = np.random.uniform(low=0, high=100, size=run_per_stat_percentage).astype(int)\n",
    "    avg_stop_period = (np.random.lognormal(mean=1, sigma=0.1, size=run_per_stat_percentage) * 100).astype(int)\n",
    "    \n",
    "    new_df = pd.DataFrame({\n",
    "        \"Stationary Percentage\": np.repeat(stat_percentage, run_per_stat_percentage),\n",
    "        \"Death Rate\": death_rate,\n",
    "        \"Total Infection Rate\": total_infection_rate,\n",
    "        \"Max Infection Rate\": max_infection_rate,\n",
    "        \"Average Stop Period\": avg_stop_period\n",
    "    })\n",
    "    \n",
    "    df = df.append(new_df, ignore_index=True)\n",
    "    "
   ]
  },
  {
   "cell_type": "code",
   "execution_count": 32,
   "metadata": {},
   "outputs": [
    {
     "data": {
      "text/html": [
       "<div>\n",
       "<style scoped>\n",
       "    .dataframe tbody tr th:only-of-type {\n",
       "        vertical-align: middle;\n",
       "    }\n",
       "\n",
       "    .dataframe tbody tr th {\n",
       "        vertical-align: top;\n",
       "    }\n",
       "\n",
       "    .dataframe thead th {\n",
       "        text-align: right;\n",
       "    }\n",
       "</style>\n",
       "<table border=\"1\" class=\"dataframe\">\n",
       "  <thead>\n",
       "    <tr style=\"text-align: right;\">\n",
       "      <th></th>\n",
       "      <th>Stationary Percentage</th>\n",
       "      <th>Death Rate</th>\n",
       "      <th>Total Infection Rate</th>\n",
       "      <th>Max Infection Rate</th>\n",
       "      <th>Average Stop Period</th>\n",
       "    </tr>\n",
       "  </thead>\n",
       "  <tbody>\n",
       "    <tr>\n",
       "      <th>0</th>\n",
       "      <td>0.0</td>\n",
       "      <td>0.524806</td>\n",
       "      <td>68.0</td>\n",
       "      <td>70.0</td>\n",
       "      <td>269.0</td>\n",
       "    </tr>\n",
       "    <tr>\n",
       "      <th>1</th>\n",
       "      <td>0.0</td>\n",
       "      <td>0.800150</td>\n",
       "      <td>47.0</td>\n",
       "      <td>43.0</td>\n",
       "      <td>300.0</td>\n",
       "    </tr>\n",
       "    <tr>\n",
       "      <th>2</th>\n",
       "      <td>0.0</td>\n",
       "      <td>0.944691</td>\n",
       "      <td>26.0</td>\n",
       "      <td>10.0</td>\n",
       "      <td>243.0</td>\n",
       "    </tr>\n",
       "    <tr>\n",
       "      <th>3</th>\n",
       "      <td>0.0</td>\n",
       "      <td>0.802096</td>\n",
       "      <td>36.0</td>\n",
       "      <td>73.0</td>\n",
       "      <td>222.0</td>\n",
       "    </tr>\n",
       "    <tr>\n",
       "      <th>4</th>\n",
       "      <td>0.0</td>\n",
       "      <td>0.477700</td>\n",
       "      <td>26.0</td>\n",
       "      <td>29.0</td>\n",
       "      <td>264.0</td>\n",
       "    </tr>\n",
       "    <tr>\n",
       "      <th>...</th>\n",
       "      <td>...</td>\n",
       "      <td>...</td>\n",
       "      <td>...</td>\n",
       "      <td>...</td>\n",
       "      <td>...</td>\n",
       "    </tr>\n",
       "    <tr>\n",
       "      <th>99995</th>\n",
       "      <td>0.9</td>\n",
       "      <td>0.748773</td>\n",
       "      <td>53.0</td>\n",
       "      <td>15.0</td>\n",
       "      <td>234.0</td>\n",
       "    </tr>\n",
       "    <tr>\n",
       "      <th>99996</th>\n",
       "      <td>0.9</td>\n",
       "      <td>0.210935</td>\n",
       "      <td>34.0</td>\n",
       "      <td>59.0</td>\n",
       "      <td>272.0</td>\n",
       "    </tr>\n",
       "    <tr>\n",
       "      <th>99997</th>\n",
       "      <td>0.9</td>\n",
       "      <td>0.375630</td>\n",
       "      <td>35.0</td>\n",
       "      <td>45.0</td>\n",
       "      <td>275.0</td>\n",
       "    </tr>\n",
       "    <tr>\n",
       "      <th>99998</th>\n",
       "      <td>0.9</td>\n",
       "      <td>0.868645</td>\n",
       "      <td>84.0</td>\n",
       "      <td>41.0</td>\n",
       "      <td>286.0</td>\n",
       "    </tr>\n",
       "    <tr>\n",
       "      <th>99999</th>\n",
       "      <td>0.9</td>\n",
       "      <td>0.908680</td>\n",
       "      <td>77.0</td>\n",
       "      <td>18.0</td>\n",
       "      <td>288.0</td>\n",
       "    </tr>\n",
       "  </tbody>\n",
       "</table>\n",
       "<p>100000 rows × 5 columns</p>\n",
       "</div>"
      ],
      "text/plain": [
       "       Stationary Percentage  Death Rate  Total Infection Rate  \\\n",
       "0                        0.0    0.524806                  68.0   \n",
       "1                        0.0    0.800150                  47.0   \n",
       "2                        0.0    0.944691                  26.0   \n",
       "3                        0.0    0.802096                  36.0   \n",
       "4                        0.0    0.477700                  26.0   \n",
       "...                      ...         ...                   ...   \n",
       "99995                    0.9    0.748773                  53.0   \n",
       "99996                    0.9    0.210935                  34.0   \n",
       "99997                    0.9    0.375630                  35.0   \n",
       "99998                    0.9    0.868645                  84.0   \n",
       "99999                    0.9    0.908680                  77.0   \n",
       "\n",
       "       Max Infection Rate  Average Stop Period  \n",
       "0                    70.0                269.0  \n",
       "1                    43.0                300.0  \n",
       "2                    10.0                243.0  \n",
       "3                    73.0                222.0  \n",
       "4                    29.0                264.0  \n",
       "...                   ...                  ...  \n",
       "99995                15.0                234.0  \n",
       "99996                59.0                272.0  \n",
       "99997                45.0                275.0  \n",
       "99998                41.0                286.0  \n",
       "99999                18.0                288.0  \n",
       "\n",
       "[100000 rows x 5 columns]"
      ]
     },
     "metadata": {},
     "output_type": "display_data"
    }
   ],
   "source": [
    "display(df)"
   ]
  },
  {
   "cell_type": "code",
   "execution_count": 73,
   "metadata": {},
   "outputs": [
    {
     "data": {
      "text/html": [
       "<div>\n",
       "<style scoped>\n",
       "    .dataframe tbody tr th:only-of-type {\n",
       "        vertical-align: middle;\n",
       "    }\n",
       "\n",
       "    .dataframe tbody tr th {\n",
       "        vertical-align: top;\n",
       "    }\n",
       "\n",
       "    .dataframe thead th {\n",
       "        text-align: right;\n",
       "    }\n",
       "</style>\n",
       "<table border=\"1\" class=\"dataframe\">\n",
       "  <thead>\n",
       "    <tr style=\"text-align: right;\">\n",
       "      <th></th>\n",
       "      <th>Death Rate</th>\n",
       "      <th>Total Infection Rate</th>\n",
       "      <th>Max Infection Rate</th>\n",
       "      <th>Average Stop Period</th>\n",
       "    </tr>\n",
       "    <tr>\n",
       "      <th>Stationary Percentage</th>\n",
       "      <th></th>\n",
       "      <th></th>\n",
       "      <th></th>\n",
       "      <th></th>\n",
       "    </tr>\n",
       "  </thead>\n",
       "  <tbody>\n",
       "    <tr>\n",
       "      <th>0.0</th>\n",
       "      <td>0.503077</td>\n",
       "      <td>49.6801</td>\n",
       "      <td>49.6884</td>\n",
       "      <td>272.5631</td>\n",
       "    </tr>\n",
       "    <tr>\n",
       "      <th>0.1</th>\n",
       "      <td>0.496259</td>\n",
       "      <td>49.4825</td>\n",
       "      <td>49.7210</td>\n",
       "      <td>272.6850</td>\n",
       "    </tr>\n",
       "    <tr>\n",
       "      <th>0.2</th>\n",
       "      <td>0.496554</td>\n",
       "      <td>49.5676</td>\n",
       "      <td>49.0625</td>\n",
       "      <td>273.0616</td>\n",
       "    </tr>\n",
       "    <tr>\n",
       "      <th>0.3</th>\n",
       "      <td>0.495962</td>\n",
       "      <td>49.4902</td>\n",
       "      <td>49.4620</td>\n",
       "      <td>272.3581</td>\n",
       "    </tr>\n",
       "    <tr>\n",
       "      <th>0.4</th>\n",
       "      <td>0.502305</td>\n",
       "      <td>48.9246</td>\n",
       "      <td>50.0334</td>\n",
       "      <td>272.4369</td>\n",
       "    </tr>\n",
       "    <tr>\n",
       "      <th>0.5</th>\n",
       "      <td>0.503626</td>\n",
       "      <td>49.6610</td>\n",
       "      <td>49.6900</td>\n",
       "      <td>272.7886</td>\n",
       "    </tr>\n",
       "    <tr>\n",
       "      <th>0.6</th>\n",
       "      <td>0.498996</td>\n",
       "      <td>49.1883</td>\n",
       "      <td>49.0898</td>\n",
       "      <td>272.9429</td>\n",
       "    </tr>\n",
       "    <tr>\n",
       "      <th>0.7</th>\n",
       "      <td>0.499102</td>\n",
       "      <td>49.6945</td>\n",
       "      <td>49.4689</td>\n",
       "      <td>272.9628</td>\n",
       "    </tr>\n",
       "    <tr>\n",
       "      <th>0.8</th>\n",
       "      <td>0.495830</td>\n",
       "      <td>49.3559</td>\n",
       "      <td>49.7451</td>\n",
       "      <td>272.6390</td>\n",
       "    </tr>\n",
       "    <tr>\n",
       "      <th>0.9</th>\n",
       "      <td>0.500079</td>\n",
       "      <td>49.1575</td>\n",
       "      <td>49.7596</td>\n",
       "      <td>272.8709</td>\n",
       "    </tr>\n",
       "  </tbody>\n",
       "</table>\n",
       "</div>"
      ],
      "text/plain": [
       "                       Death Rate  Total Infection Rate  Max Infection Rate  \\\n",
       "Stationary Percentage                                                         \n",
       "0.0                      0.503077               49.6801             49.6884   \n",
       "0.1                      0.496259               49.4825             49.7210   \n",
       "0.2                      0.496554               49.5676             49.0625   \n",
       "0.3                      0.495962               49.4902             49.4620   \n",
       "0.4                      0.502305               48.9246             50.0334   \n",
       "0.5                      0.503626               49.6610             49.6900   \n",
       "0.6                      0.498996               49.1883             49.0898   \n",
       "0.7                      0.499102               49.6945             49.4689   \n",
       "0.8                      0.495830               49.3559             49.7451   \n",
       "0.9                      0.500079               49.1575             49.7596   \n",
       "\n",
       "                       Average Stop Period  \n",
       "Stationary Percentage                       \n",
       "0.0                               272.5631  \n",
       "0.1                               272.6850  \n",
       "0.2                               273.0616  \n",
       "0.3                               272.3581  \n",
       "0.4                               272.4369  \n",
       "0.5                               272.7886  \n",
       "0.6                               272.9429  \n",
       "0.7                               272.9628  \n",
       "0.8                               272.6390  \n",
       "0.9                               272.8709  "
      ]
     },
     "metadata": {},
     "output_type": "display_data"
    }
   ],
   "source": [
    "# Show graphs for each category against each stationary percentage\n",
    "\n",
    "mean_df = df.groupby(\"Stationary Percentage\").mean()\n",
    "\n",
    "display(mean_df)"
   ]
  },
  {
   "cell_type": "code",
   "execution_count": 74,
   "metadata": {},
   "outputs": [
    {
     "data": {
      "text/plain": [
       "<matplotlib.axes._subplots.AxesSubplot at 0x1285f1b38>"
      ]
     },
     "execution_count": 74,
     "metadata": {},
     "output_type": "execute_result"
    },
    {
     "data": {
      "image/png": "[encoded data removed]",
      "text/plain": [
       "<Figure size 432x288 with 1 Axes>"
      ]
     },
     "metadata": {},
     "output_type": "display_data"
    }
   ],
   "source": [
    "# Plot for Death Rate\n",
    "\n",
    "sns.lineplot(data=mean_df[\"Death Rate\"])"
   ]
  },
  {
   "cell_type": "code",
   "execution_count": 75,
   "metadata": {},
   "outputs": [
    {
     "data": {
      "text/plain": [
       "<matplotlib.axes._subplots.AxesSubplot at 0x128b89da0>"
      ]
     },
     "execution_count": 75,
     "metadata": {},
     "output_type": "execute_result"
    },
    {
     "data": {
      "image/png": "[encoded data removed]",
      "text/plain": [
       "<Figure size 432x288 with 1 Axes>"
      ]
     },
     "metadata": {},
     "output_type": "display_data"
    }
   ],
   "source": [
    "# Plot for Total Infection Rate\n",
    "\n",
    "sns.lineplot(data=mean_df[\"Total Infection Rate\"])"
   ]
  },
  {
   "cell_type": "code",
   "execution_count": 76,
   "metadata": {},
   "outputs": [
    {
     "data": {
      "text/plain": [
       "<matplotlib.axes._subplots.AxesSubplot at 0x130531470>"
      ]
     },
     "execution_count": 76,
     "metadata": {},
     "output_type": "execute_result"
    },
    {
     "data": {
      "image/png": "[encoded data removed]",
      "text/plain": [
       "<Figure size 432x288 with 1 Axes>"
      ]
     },
     "metadata": {},
     "output_type": "display_data"
    }
   ],
   "source": [
    "# Plot for Max Infection Rate\n",
    "sns.lineplot(data=mean_df[\"Max Infection Rate\"])"
   ]
  },
  {
   "cell_type": "code",
   "execution_count": 77,
   "metadata": {},
   "outputs": [
    {
     "data": {
      "text/plain": [
       "<matplotlib.axes._subplots.AxesSubplot at 0x130612860>"
      ]
     },
     "execution_count": 77,
     "metadata": {},
     "output_type": "execute_result"
    },
    {
     "data": {
      "image/png": "[encoded data removed]",
      "text/plain": [
       "<Figure size 432x288 with 1 Axes>"
      ]
     },
     "metadata": {},
     "output_type": "display_data"
    }
   ],
   "source": [
    "# Plot for Average Stop Period\n",
    "sns.lineplot(data=mean_df[\"Average Stop Period\"])"
   ]
  },
  {
   "cell_type": "code",
   "execution_count": null,
   "metadata": {},
   "outputs": [],
   "source": []
  }
 ],
 "metadata": {
  "kernelspec": {
   "display_name": "Python 3",
   "language": "python",
   "name": "python3"
  },
  "language_info": {
   "codemirror_mode": {
    "name": "ipython",
    "version": 3
   },
   "file_extension": ".py",
   "mimetype": "text/x-python",
   "name": "python",
   "nbconvert_exporter": "python",
   "pygments_lexer": "ipython3",
   "version": "3.6.8"
  }
 },
 "nbformat": 4,
 "nbformat_minor": 4
}
